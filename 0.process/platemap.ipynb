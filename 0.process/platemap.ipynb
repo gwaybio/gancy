{
 "cells": [
  {
   "cell_type": "markdown",
   "metadata": {},
   "source": [
    "# Visualize Platemap"
   ]
  },
  {
   "cell_type": "code",
   "execution_count": 1,
   "metadata": {},
   "outputs": [],
   "source": [
    "suppressPackageStartupMessages(library(dplyr))\n",
    "suppressPackageStartupMessages(library(platetools))\n",
    "suppressPackageStartupMessages(library(ggplot2))"
   ]
  },
  {
   "cell_type": "code",
   "execution_count": 2,
   "metadata": {},
   "outputs": [
    {
     "data": {
      "text/html": [
       "<ol class=list-inline>\n",
       "\t<li>51267</li>\n",
       "\t<li>123</li>\n",
       "</ol>\n"
      ],
      "text/latex": [
       "\\begin{enumerate*}\n",
       "\\item 51267\n",
       "\\item 123\n",
       "\\end{enumerate*}\n"
      ],
      "text/markdown": [
       "1. 51267\n",
       "2. 123\n",
       "\n",
       "\n"
      ],
      "text/plain": [
       "[1] 51267   123"
      ]
     },
     "metadata": {},
     "output_type": "display_data"
    },
    {
     "data": {
      "text/html": [
       "<table>\n",
       "<caption>A tibble: 6 × 123</caption>\n",
       "<thead>\n",
       "\t<tr><th scope=col>cell_code</th><th scope=col>cell_id</th><th scope=col>plate</th><th scope=col>replicate</th><th scope=col>well</th><th scope=col>field</th><th scope=col>actin.s.area</th><th scope=col>actin.s.perimeter</th><th scope=col>actin.s.radius.mean</th><th scope=col>actin.s.radius.sd</th><th scope=col>⋯</th><th scope=col>DNA.h.ent.s3</th><th scope=col>DNA.h.dva.s3</th><th scope=col>DNA.h.den.s3</th><th scope=col>DNA.h.f12.s3</th><th scope=col>DNA.h.f13.s3</th><th scope=col>dist.10.nn</th><th scope=col>dist.20.nn</th><th scope=col>dist.30.nn</th><th scope=col>nuclear.displacement</th><th scope=col>target</th></tr>\n",
       "\t<tr><th scope=col>&lt;chr&gt;</th><th scope=col>&lt;dbl&gt;</th><th scope=col>&lt;chr&gt;</th><th scope=col>&lt;dbl&gt;</th><th scope=col>&lt;chr&gt;</th><th scope=col>&lt;dbl&gt;</th><th scope=col>&lt;dbl&gt;</th><th scope=col>&lt;dbl&gt;</th><th scope=col>&lt;dbl&gt;</th><th scope=col>&lt;dbl&gt;</th><th scope=col>⋯</th><th scope=col>&lt;dbl&gt;</th><th scope=col>&lt;dbl&gt;</th><th scope=col>&lt;dbl&gt;</th><th scope=col>&lt;dbl&gt;</th><th scope=col>&lt;dbl&gt;</th><th scope=col>&lt;dbl&gt;</th><th scope=col>&lt;dbl&gt;</th><th scope=col>&lt;dbl&gt;</th><th scope=col>&lt;dbl&gt;</th><th scope=col>&lt;chr&gt;</th></tr>\n",
       "</thead>\n",
       "<tbody>\n",
       "\t<tr><td>OaJHcDs2kh</td><td>1</td><td>P1</td><td>1</td><td>C10</td><td>1</td><td> 579</td><td> 90</td><td>13.94276</td><td>4.352958</td><td>⋯</td><td>0</td><td>0</td><td>0</td><td>0</td><td>0</td><td>128.88952</td><td>178.59576</td><td>207.1874</td><td>5.9388822</td><td>adrenoceptor</td></tr>\n",
       "\t<tr><td>nwLFF4l070</td><td>2</td><td>P1</td><td>1</td><td>C10</td><td>1</td><td>1132</td><td>136</td><td>20.17901</td><td>4.583255</td><td>⋯</td><td>0</td><td>0</td><td>0</td><td>0</td><td>0</td><td> 79.88530</td><td>123.69747</td><td>190.5988</td><td>0.4780237</td><td>adrenoceptor</td></tr>\n",
       "\t<tr><td>JU4SIplWZ7</td><td>3</td><td>P1</td><td>1</td><td>C10</td><td>1</td><td> 736</td><td> 99</td><td>15.20940</td><td>2.408709</td><td>⋯</td><td>0</td><td>0</td><td>0</td><td>0</td><td>0</td><td> 64.37064</td><td> 88.93167</td><td>127.4529</td><td>3.9283252</td><td>adrenoceptor</td></tr>\n",
       "\t<tr><td>pqkTwaHa2L</td><td>4</td><td>P1</td><td>1</td><td>C10</td><td>1</td><td> 611</td><td> 92</td><td>14.39853</td><td>3.662234</td><td>⋯</td><td>0</td><td>0</td><td>0</td><td>0</td><td>0</td><td> 87.53649</td><td>121.87917</td><td>160.7527</td><td>3.3360809</td><td>adrenoceptor</td></tr>\n",
       "\t<tr><td>pB2BlQoW94</td><td>5</td><td>P1</td><td>1</td><td>C10</td><td>1</td><td> 585</td><td> 93</td><td>14.03067</td><td>3.408844</td><td>⋯</td><td>0</td><td>0</td><td>0</td><td>0</td><td>0</td><td>105.86673</td><td>142.02386</td><td>182.9900</td><td>2.3437761</td><td>adrenoceptor</td></tr>\n",
       "\t<tr><td>ng7c7qtodJ</td><td>6</td><td>P1</td><td>1</td><td>C10</td><td>1</td><td>1926</td><td>209</td><td>25.39435</td><td>5.188380</td><td>⋯</td><td>0</td><td>0</td><td>0</td><td>0</td><td>0</td><td>104.69160</td><td>190.96170</td><td>218.9728</td><td>1.8205293</td><td>adrenoceptor</td></tr>\n",
       "</tbody>\n",
       "</table>\n"
      ],
      "text/latex": [
       "A tibble: 6 × 123\n",
       "\\begin{tabular}{r|lllllllllllllllllllllllllllllllllllllllllllllllllllllllllllllllllllllllllllllllllllllllllllllllllllllllllllllllllllllllllll}\n",
       " cell\\_code & cell\\_id & plate & replicate & well & field & actin.s.area & actin.s.perimeter & actin.s.radius.mean & actin.s.radius.sd & actin.s.radius.min & actin.s.radius.max & actin.b.mean & actin.b.sd & actin.b.mad & actin.b.q005 & actin.b.q01 & actin.b.q05 & actin.m.cx & actin.m.cy & actin.m.majoraxis & actin.m.eccentricity & actin.m.theta & actin.h.asm.s1 & actin.h.con.s1 & actin.h.cor.s1 & actin.h.var.s1 & actin.h.idm.s1 & actin.h.sav.s1 & actin.h.sva.s1 & actin.h.sen.s1 & actin.h.ent.s1 & actin.h.dva.s1 & actin.h.den.s1 & actin.h.f12.s1 & actin.h.f13.s1 & actin.h.asm.s2 & actin.h.con.s2 & actin.h.cor.s2 & actin.h.var.s2 & actin.h.idm.s2 & actin.h.sav.s2 & actin.h.sva.s2 & actin.h.sen.s2 & actin.h.ent.s2 & actin.h.dva.s2 & actin.h.den.s2 & actin.h.f12.s2 & actin.h.f13.s2 & actin.h.asm.s3 & actin.h.con.s3 & actin.h.cor.s3 & actin.h.var.s3 & actin.h.idm.s3 & actin.h.sav.s3 & actin.h.sva.s3 & actin.h.sen.s3 & actin.h.ent.s3 & actin.h.dva.s3 & actin.h.den.s3 & actin.h.f12.s3 & actin.h.f13.s3 & DNA.s.area & DNA.s.perimeter & DNA.s.radius.mean & DNA.s.radius.sd & DNA.s.radius.min & DNA.s.radius.max & DNA.b.mean & DNA.b.sd & DNA.b.mad & DNA.b.q005 & DNA.b.q01 & DNA.b.q05 & DNA.m.cx & DNA.m.cy & DNA.m.majoraxis & DNA.m.eccentricity & DNA.m.theta & DNA.h.asm.s1 & DNA.h.con.s1 & DNA.h.cor.s1 & DNA.h.var.s1 & DNA.h.idm.s1 & DNA.h.sav.s1 & DNA.h.sva.s1 & DNA.h.sen.s1 & DNA.h.ent.s1 & DNA.h.dva.s1 & DNA.h.den.s1 & DNA.h.f12.s1 & DNA.h.f13.s1 & DNA.h.asm.s2 & DNA.h.con.s2 & DNA.h.cor.s2 & DNA.h.var.s2 & DNA.h.idm.s2 & DNA.h.sav.s2 & DNA.h.sva.s2 & DNA.h.sen.s2 & DNA.h.ent.s2 & DNA.h.dva.s2 & DNA.h.den.s2 & DNA.h.f12.s2 & DNA.h.f13.s2 & DNA.h.asm.s3 & DNA.h.con.s3 & DNA.h.cor.s3 & DNA.h.var.s3 & DNA.h.idm.s3 & DNA.h.sav.s3 & DNA.h.sva.s3 & DNA.h.sen.s3 & DNA.h.ent.s3 & DNA.h.dva.s3 & DNA.h.den.s3 & DNA.h.f12.s3 & DNA.h.f13.s3 & dist.10.nn & dist.20.nn & dist.30.nn & nuclear.displacement & target\\\\\n",
       " <chr> & <dbl> & <chr> & <dbl> & <chr> & <dbl> & <dbl> & <dbl> & <dbl> & <dbl> & <dbl> & <dbl> & <dbl> & <dbl> & <dbl> & <dbl> & <dbl> & <dbl> & <dbl> & <dbl> & <dbl> & <dbl> & <dbl> & <dbl> & <dbl> & <dbl> & <dbl> & <dbl> & <dbl> & <dbl> & <dbl> & <dbl> & <dbl> & <dbl> & <dbl> & <dbl> & <dbl> & <dbl> & <dbl> & <dbl> & <dbl> & <dbl> & <dbl> & <dbl> & <dbl> & <dbl> & <dbl> & <dbl> & <dbl> & <dbl> & <dbl> & <dbl> & <dbl> & <dbl> & <dbl> & <dbl> & <dbl> & <dbl> & <dbl> & <dbl> & <dbl> & <dbl> & <dbl> & <dbl> & <dbl> & <dbl> & <dbl> & <dbl> & <dbl> & <dbl> & <dbl> & <dbl> & <dbl> & <dbl> & <dbl> & <dbl> & <dbl> & <dbl> & <dbl> & <dbl> & <dbl> & <dbl> & <dbl> & <dbl> & <dbl> & <dbl> & <dbl> & <dbl> & <dbl> & <dbl> & <dbl> & <dbl> & <dbl> & <dbl> & <dbl> & <dbl> & <dbl> & <dbl> & <dbl> & <dbl> & <dbl> & <dbl> & <dbl> & <dbl> & <dbl> & <dbl> & <dbl> & <dbl> & <dbl> & <dbl> & <dbl> & <dbl> & <dbl> & <dbl> & <dbl> & <dbl> & <dbl> & <dbl> & <dbl> & <dbl> & <dbl> & <dbl> & <chr>\\\\\n",
       "\\hline\n",
       "\t OaJHcDs2kh & 1 & P1 & 1 & C10 & 1 &  579 &  90 & 13.94276 & 4.352958 &  6.502659 & 21.91185 & 0.004388906 & 0.0007686809 & 0.0003619684 & 0.003691157 & 0.003768978 & 0.004089418 & 1331.4878 & 1178.5447 & 43.25327 & 0.9073454 & -0.9317000 & 1 & 0 & 0 & 1 & 1 & 2 & 4 & 0 & 0 & 0 & 0 & 0 & 0 & 1 & 0 & 0 & 1 & 1 & 2 & 4 & 0 & 0 & 0 & 0 & 0 & 0 & 1 & 0 & 0 & 1 & 1 & 2 & 4 & 0 & 0 & 0 & 0 & 0 & 0 & 437 &  66 & 11.453550 & 1.3446750 & 8.950648 & 13.965070 & 0.003997724 & 0.0009688335 & 0.001289512 & 0.002517739 & 0.002700847 & 0.004013123 & 1327.8663 & 1183.2516 & 25.61803 & 0.6724372 & -0.8242530 & 1 & 0 & 0 & 1 & 1 & 2 & 4 & 0 & 0 & 0 & 0 & 0 & 0 & 1 & 0 & 0 & 1 & 1 & 2 & 4 & 0 & 0 & 0 & 0 & 0 & 0 & 1 & 0 & 0 & 1 & 1 & 2 & 4 & 0 & 0 & 0 & 0 & 0 & 0 & 128.88952 & 178.59576 & 207.1874 & 5.9388822 & adrenoceptor\\\\\n",
       "\t nwLFF4l070 & 2 & P1 & 1 & C10 & 1 & 1132 & 136 & 20.17901 & 4.583255 & 12.644750 & 30.43568 & 0.006132455 & 0.0006862027 & 0.0006221332 & 0.004708171 & 0.005096513 & 0.006248569 & 1280.0108 &  848.6094 & 44.71158 & 0.6281156 & -1.2818051 & 1 & 0 & 0 & 1 & 1 & 2 & 4 & 0 & 0 & 0 & 0 & 0 & 0 & 1 & 0 & 0 & 1 & 1 & 2 & 4 & 0 & 0 & 0 & 0 & 0 & 0 & 1 & 0 & 0 & 1 & 1 & 2 & 4 & 0 & 0 & 0 & 0 & 0 & 0 & 383 &  61 & 10.591068 & 0.6413882 & 9.394358 & 12.235056 & 0.004360056 & 0.0010686907 & 0.001538366 & 0.002763409 & 0.002887007 & 0.004333562 & 1280.4869 &  848.5669 & 21.63406 & 0.4270236 & -1.0518502 & 1 & 0 & 0 & 1 & 1 & 2 & 4 & 0 & 0 & 0 & 0 & 0 & 0 & 1 & 0 & 0 & 1 & 1 & 2 & 4 & 0 & 0 & 0 & 0 & 0 & 0 & 1 & 0 & 0 & 1 & 1 & 2 & 4 & 0 & 0 & 0 & 0 & 0 & 0 &  79.88530 & 123.69747 & 190.5988 & 0.4780237 & adrenoceptor\\\\\n",
       "\t JU4SIplWZ7 & 3 & P1 & 1 & C10 & 1 &  736 &  99 & 15.20940 & 2.408709 & 11.188623 & 20.59723 & 0.006503329 & 0.0016600117 & 0.0011311513 & 0.002693217 & 0.003532464 & 0.006851301 &  649.3325 & 1215.8991 & 35.04736 & 0.6776842 &  0.5417998 & 1 & 0 & 0 & 1 & 1 & 2 & 4 & 0 & 0 & 0 & 0 & 0 & 0 & 1 & 0 & 0 & 1 & 1 & 2 & 4 & 0 & 0 & 0 & 0 & 0 & 0 & 1 & 0 & 0 & 1 & 1 & 2 & 4 & 0 & 0 & 0 & 0 & 0 & 0 & 246 &  48 &  8.456405 & 0.8434633 & 6.808899 & 10.034662 & 0.006205708 & 0.0013528637 & 0.001538366 & 0.004032197 & 0.004203861 & 0.006477455 &  647.5361 & 1212.4056 & 19.02661 & 0.6403585 &  0.6706191 & 1 & 0 & 0 & 1 & 1 & 2 & 4 & 0 & 0 & 0 & 0 & 0 & 0 & 1 & 0 & 0 & 1 & 1 & 2 & 4 & 0 & 0 & 0 & 0 & 0 & 0 & 1 & 0 & 0 & 1 & 1 & 2 & 4 & 0 & 0 & 0 & 0 & 0 & 0 &  64.37064 &  88.93167 & 127.4529 & 3.9283252 & adrenoceptor\\\\\n",
       "\t pqkTwaHa2L & 4 & P1 & 1 & C10 & 1 &  611 &  92 & 14.39853 & 3.662234 &  7.847653 & 21.73153 & 0.012948741 & 0.0026139106 & 0.0023754177 & 0.008041505 & 0.009658961 & 0.013290608 &  471.9961 &  694.8128 & 38.85265 & 0.8272270 &  0.7568176 & 1 & 0 & 0 & 1 & 1 & 2 & 4 & 0 & 0 & 0 & 0 & 0 & 0 & 1 & 0 & 0 & 1 & 1 & 2 & 4 & 0 & 0 & 0 & 0 & 0 & 0 & 1 & 0 & 0 & 1 & 1 & 2 & 4 & 0 & 0 & 0 & 0 & 0 & 0 & 233 &  47 &  8.205830 & 0.8599385 & 6.530563 &  9.804979 & 0.008756583 & 0.0030250877 & 0.003597061 & 0.004266423 & 0.004657053 & 0.008896010 &  473.5198 &  697.7805 & 18.35013 & 0.6901707 &  0.4750431 & 1 & 0 & 0 & 1 & 1 & 2 & 4 & 0 & 0 & 0 & 0 & 0 & 0 & 1 & 0 & 0 & 1 & 1 & 2 & 4 & 0 & 0 & 0 & 0 & 0 & 0 & 1 & 0 & 0 & 1 & 1 & 2 & 4 & 0 & 0 & 0 & 0 & 0 & 0 &  87.53649 & 121.87917 & 160.7527 & 3.3360809 & adrenoceptor\\\\\n",
       "\t pB2BlQoW94 & 5 & P1 & 1 & C10 & 1 &  585 &  93 & 14.03067 & 3.408844 &  7.606134 & 20.18739 & 0.005993979 & 0.0007699605 & 0.0007691829 & 0.004626535 & 0.004873732 & 0.006103609 & 1031.9721 &  428.7418 & 34.50485 & 0.7732312 & -1.0597764 & 1 & 0 & 0 & 1 & 1 & 2 & 4 & 0 & 0 & 0 & 0 & 0 & 0 & 1 & 0 & 0 & 1 & 1 & 2 & 4 & 0 & 0 & 0 & 0 & 0 & 0 & 1 & 0 & 0 & 1 & 1 & 2 & 4 & 0 & 0 & 0 & 0 & 0 & 0 & 322 &  54 &  9.702728 & 0.5248319 & 8.782777 & 10.967467 & 0.005685455 & 0.0022170627 & 0.002884436 & 0.002716869 & 0.003009079 & 0.005264363 & 1031.3650 &  431.0056 & 18.81468 & 0.4190988 & -0.9698782 & 1 & 0 & 0 & 1 & 1 & 2 & 4 & 0 & 0 & 0 & 0 & 0 & 0 & 1 & 0 & 0 & 1 & 1 & 2 & 4 & 0 & 0 & 0 & 0 & 0 & 0 & 1 & 0 & 0 & 1 & 1 & 2 & 4 & 0 & 0 & 0 & 0 & 0 & 0 & 105.86673 & 142.02386 & 182.9900 & 2.3437761 & adrenoceptor\\\\\n",
       "\t ng7c7qtodJ & 6 & P1 & 1 & C10 & 1 & 1926 & 209 & 25.39435 & 5.188380 & 16.504224 & 36.91944 & 0.007319918 & 0.0016285296 & 0.0012442664 & 0.005039292 & 0.005569543 & 0.007064927 & 1144.2088 & 1122.2689 & 57.86819 & 0.5322395 &  0.9998875 & 1 & 0 & 0 & 1 & 1 & 2 & 4 & 0 & 0 & 0 & 0 & 0 & 0 & 1 & 0 & 0 & 1 & 1 & 2 & 4 & 0 & 0 & 0 & 0 & 0 & 0 & 1 & 0 & 0 & 1 & 1 & 2 & 4 & 0 & 0 & 0 & 0 & 0 & 0 & 816 & 125 & 15.586039 & 6.8558419 & 1.759782 & 25.000497 & 0.005934058 & 0.0016946873 & 0.002149187 & 0.003246357 & 0.003578241 & 0.006042573 & 1142.3895 & 1122.3360 & 53.96550 & 0.9117157 & -1.5704627 & 1 & 0 & 0 & 1 & 1 & 2 & 4 & 0 & 0 & 0 & 0 & 0 & 0 & 1 & 0 & 0 & 1 & 1 & 2 & 4 & 0 & 0 & 0 & 0 & 0 & 0 & 1 & 0 & 0 & 1 & 1 & 2 & 4 & 0 & 0 & 0 & 0 & 0 & 0 & 104.69160 & 190.96170 & 218.9728 & 1.8205293 & adrenoceptor\\\\\n",
       "\\end{tabular}\n"
      ],
      "text/markdown": [
       "\n",
       "A tibble: 6 × 123\n",
       "\n",
       "| cell_code &lt;chr&gt; | cell_id &lt;dbl&gt; | plate &lt;chr&gt; | replicate &lt;dbl&gt; | well &lt;chr&gt; | field &lt;dbl&gt; | actin.s.area &lt;dbl&gt; | actin.s.perimeter &lt;dbl&gt; | actin.s.radius.mean &lt;dbl&gt; | actin.s.radius.sd &lt;dbl&gt; | ⋯ ⋯ | DNA.h.ent.s3 &lt;dbl&gt; | DNA.h.dva.s3 &lt;dbl&gt; | DNA.h.den.s3 &lt;dbl&gt; | DNA.h.f12.s3 &lt;dbl&gt; | DNA.h.f13.s3 &lt;dbl&gt; | dist.10.nn &lt;dbl&gt; | dist.20.nn &lt;dbl&gt; | dist.30.nn &lt;dbl&gt; | nuclear.displacement &lt;dbl&gt; | target &lt;chr&gt; |\n",
       "|---|---|---|---|---|---|---|---|---|---|---|---|---|---|---|---|---|---|---|---|---|\n",
       "| OaJHcDs2kh | 1 | P1 | 1 | C10 | 1 |  579 |  90 | 13.94276 | 4.352958 | ⋯ | 0 | 0 | 0 | 0 | 0 | 128.88952 | 178.59576 | 207.1874 | 5.9388822 | adrenoceptor |\n",
       "| nwLFF4l070 | 2 | P1 | 1 | C10 | 1 | 1132 | 136 | 20.17901 | 4.583255 | ⋯ | 0 | 0 | 0 | 0 | 0 |  79.88530 | 123.69747 | 190.5988 | 0.4780237 | adrenoceptor |\n",
       "| JU4SIplWZ7 | 3 | P1 | 1 | C10 | 1 |  736 |  99 | 15.20940 | 2.408709 | ⋯ | 0 | 0 | 0 | 0 | 0 |  64.37064 |  88.93167 | 127.4529 | 3.9283252 | adrenoceptor |\n",
       "| pqkTwaHa2L | 4 | P1 | 1 | C10 | 1 |  611 |  92 | 14.39853 | 3.662234 | ⋯ | 0 | 0 | 0 | 0 | 0 |  87.53649 | 121.87917 | 160.7527 | 3.3360809 | adrenoceptor |\n",
       "| pB2BlQoW94 | 5 | P1 | 1 | C10 | 1 |  585 |  93 | 14.03067 | 3.408844 | ⋯ | 0 | 0 | 0 | 0 | 0 | 105.86673 | 142.02386 | 182.9900 | 2.3437761 | adrenoceptor |\n",
       "| ng7c7qtodJ | 6 | P1 | 1 | C10 | 1 | 1926 | 209 | 25.39435 | 5.188380 | ⋯ | 0 | 0 | 0 | 0 | 0 | 104.69160 | 190.96170 | 218.9728 | 1.8205293 | adrenoceptor |\n",
       "\n"
      ],
      "text/plain": [
       "  cell_code  cell_id plate replicate well field actin.s.area actin.s.perimeter\n",
       "1 OaJHcDs2kh 1       P1    1         C10  1      579          90              \n",
       "2 nwLFF4l070 2       P1    1         C10  1     1132         136              \n",
       "3 JU4SIplWZ7 3       P1    1         C10  1      736          99              \n",
       "4 pqkTwaHa2L 4       P1    1         C10  1      611          92              \n",
       "5 pB2BlQoW94 5       P1    1         C10  1      585          93              \n",
       "6 ng7c7qtodJ 6       P1    1         C10  1     1926         209              \n",
       "  actin.s.radius.mean actin.s.radius.sd ⋯ DNA.h.ent.s3 DNA.h.dva.s3\n",
       "1 13.94276            4.352958          ⋯ 0            0           \n",
       "2 20.17901            4.583255          ⋯ 0            0           \n",
       "3 15.20940            2.408709          ⋯ 0            0           \n",
       "4 14.39853            3.662234          ⋯ 0            0           \n",
       "5 14.03067            3.408844          ⋯ 0            0           \n",
       "6 25.39435            5.188380          ⋯ 0            0           \n",
       "  DNA.h.den.s3 DNA.h.f12.s3 DNA.h.f13.s3 dist.10.nn dist.20.nn dist.30.nn\n",
       "1 0            0            0            128.88952  178.59576  207.1874  \n",
       "2 0            0            0             79.88530  123.69747  190.5988  \n",
       "3 0            0            0             64.37064   88.93167  127.4529  \n",
       "4 0            0            0             87.53649  121.87917  160.7527  \n",
       "5 0            0            0            105.86673  142.02386  182.9900  \n",
       "6 0            0            0            104.69160  190.96170  218.9728  \n",
       "  nuclear.displacement target      \n",
       "1 5.9388822            adrenoceptor\n",
       "2 0.4780237            adrenoceptor\n",
       "3 3.9283252            adrenoceptor\n",
       "4 3.3360809            adrenoceptor\n",
       "5 2.3437761            adrenoceptor\n",
       "6 1.8205293            adrenoceptor"
      ]
     },
     "metadata": {},
     "output_type": "display_data"
    }
   ],
   "source": [
    "data_file <- file.path(\"0.process\", \"data\", \"training_data.csv\")\n",
    "train_df <- readr::read_csv(data_file, col_types = readr::cols())\n",
    "\n",
    "dim(train_df)\n",
    "head(train_df)"
   ]
  },
  {
   "cell_type": "code",
   "execution_count": 3,
   "metadata": {},
   "outputs": [
    {
     "name": "stderr",
     "output_type": "stream",
     "text": [
      "Warning message in open.connection(path, \"wb\"):\n",
      "“cannot open file 'results/well_target_counts.tsv': No such file or directory”"
     ]
    },
    {
     "ename": "ERROR",
     "evalue": "Error in open.connection(path, \"wb\"): cannot open the connection\n",
     "output_type": "error",
     "traceback": [
      "Error in open.connection(path, \"wb\"): cannot open the connection\nTraceback:\n",
      "1. readr::write_tsv(well_info_df, output_file)",
      "2. write_delim(x, path, delim = \"\\t\", na = na, append = append, \n .     col_names = col_names, quote_escape = quote_escape)",
      "3. stream_delim(x, path, delim = delim, col_names = col_names, append = append, \n .     na = na, quote_escape = quote_escape)",
      "4. open(path, \"wb\")",
      "5. open.connection(path, \"wb\")"
     ]
    }
   ],
   "source": [
    "well_info_df <- train_df %>%\n",
    "    dplyr::group_by(target, well) %>%\n",
    "    dplyr::tally() %>%\n",
    "    dplyr::arrange(target, desc(n))\n",
    "\n",
    "output_file <- file.path(\"results\", \"well_target_counts.tsv\")\n",
    "readr::write_tsv(well_info_df, output_file)\n",
    "\n",
    "head(well_info_df)"
   ]
  },
  {
   "cell_type": "code",
   "execution_count": null,
   "metadata": {},
   "outputs": [],
   "source": [
    "platetools::raw_map(data = train_df$target,\n",
    "                    well = train_df$well,\n",
    "                    plate = 384) +\n",
    "    ggtitle(\"MOA\") +\n",
    "    theme_dark() +\n",
    "    scale_fill_discrete() +\n",
    "    theme(legend.position = \"left\")\n",
    "\n",
    "fig_file <- file.path(\"results\", \"moa_training_platemap.png\")\n",
    "ggsave(fig_file, height = 4, width = 6, dpi = 300)"
   ]
  }
 ],
 "metadata": {
  "kernelspec": {
   "display_name": "R [conda env:gancy] *",
   "language": "R",
   "name": "conda-env-gancy-r"
  },
  "language_info": {
   "codemirror_mode": "r",
   "file_extension": ".r",
   "mimetype": "text/x-r-source",
   "name": "R",
   "pygments_lexer": "r",
   "version": "3.5.1"
  }
 },
 "nbformat": 4,
 "nbformat_minor": 2
}
