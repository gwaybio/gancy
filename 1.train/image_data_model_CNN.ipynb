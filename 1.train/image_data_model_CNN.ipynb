{
 "cells": [
  {
   "cell_type": "code",
   "execution_count": 27,
   "metadata": {},
   "outputs": [],
   "source": [
    "%matplotlib inline\n",
    "import matplotlib.pyplot as plt\n",
    "\n",
    "import pandas as pd\n",
    "import numpy as np\n",
    "import itertools\n",
    "from keras.layers import *\n",
    "from keras.models import Sequential, load_model\n",
    "from keras.callbacks import EarlyStopping, ModelCheckpoint\n",
    "from keras import optimizers, losses\n",
    "\n",
    "from skimage.io import imread\n",
    "from sklearn.model_selection import train_test_split\n",
    "from sklearn.metrics import confusion_matrix, accuracy_score, f1_score"
   ]
  },
  {
   "cell_type": "code",
   "execution_count": 4,
   "metadata": {},
   "outputs": [],
   "source": [
    "num_channels = 3\n",
    "pixel_size = 201\n",
    "padding_ = 'same'\n",
    "data_format_ = 'channels_last'\n",
    "actv_ = 'relu'"
   ]
  },
  {
   "cell_type": "code",
   "execution_count": 6,
   "metadata": {},
   "outputs": [],
   "source": [
    "# CNN architecture\n",
    "model = Sequential()\n",
    "# CONV1\n",
    "model.add(Conv2D(filters=10, kernel_size=(3,3), strides=(1,1), input_shape=(pixel_size, pixel_size, num_channels),\n",
    "                 padding=padding_, data_format=data_format_))\n",
    "model.add(normalization.BatchNormalization(axis=1))\n",
    "model.add(Activation(actv_))\n",
    "# CONV2\n",
    "#model.add(Conv2D(filters=10, kernel_size=(3,3), strides=(1,1), padding=padding_, data_format=data_format_))\n",
    "#model.add(normalization.BatchNormalization(axis=1))\n",
    "#model.add(Activation(actv_))\n",
    "# POOL1\n",
    "model.add(MaxPooling2D(pool_size=(2,2), strides=(2,2), padding=padding_, data_format=data_format_))\n",
    "# CONV3\n",
    "model.add(Conv2D(filters=20, kernel_size=(3,3), strides=(1,1), padding=padding_, data_format=data_format_))\n",
    "model.add(normalization.BatchNormalization(axis=1))\n",
    "model.add(Activation(actv_))\n",
    "# CONV4\n",
    "#model.add(Conv2D(filters=20, kernel_size=(3,3), strides=(1,1), padding=padding_, data_format=data_format_))\n",
    "#model.add(normalization.BatchNormalization(axis=1))\n",
    "#model.add(Activation(actv_))\n",
    "# POOL2\n",
    "model.add(MaxPooling2D(pool_size=(2,2), strides=(2,2), padding=padding_, data_format=data_format_))\n",
    "# CONV5\n",
    "model.add(Conv2D(filters=40, kernel_size=(3,3), strides=(1,1), padding=padding_, data_format=data_format_))\n",
    "model.add(normalization.BatchNormalization(axis=1))\n",
    "model.add(Activation(actv_))\n",
    "# CONV6\n",
    "#model.add(Conv2D(filters=40, kernel_size=(3,3), strides=(1,1), padding=padding_, data_format=data_format_))\n",
    "#model.add(normalization.BatchNormalization(axis=1))\n",
    "#model.add(Activation(actv_))\n",
    "# CONV7\n",
    "#model.add(Conv2D(filters=40, kernel_size=(3,3), strides=(1,1), padding=padding_, data_format=data_format_))\n",
    "#model.add(normalization.BatchNormalization(axis=1))\n",
    "#model.add(Activation(actv_))\n",
    "# CONV8\n",
    "#model.add(Conv2D(filters=40, kernel_size=(3,3), strides=(1,1), padding=padding_, data_format=data_format_))\n",
    "#model.add(normalization.BatchNormalization(axis=1))\n",
    "#model.add(Activation(actv_))\n",
    "# POOL3\n",
    "model.add(MaxPooling2D(pool_size=(3,3), strides=(2,2), padding='valid', data_format=data_format_))\n",
    "# FLATTEN\n",
    "model.add(Flatten())\n",
    "model.add(Dense(50, activation=actv_))\n",
    "model.add(Dense(50, activation=actv_))\n",
    "model.add(Dense(17, activation='softmax'))"
   ]
  },
  {
   "cell_type": "code",
   "execution_count": 7,
   "metadata": {},
   "outputs": [
    {
     "name": "stdout",
     "output_type": "stream",
     "text": [
      "_________________________________________________________________\n",
      "Layer (type)                 Output Shape              Param #   \n",
      "=================================================================\n",
      "conv2d_7 (Conv2D)            (None, 201, 201, 10)      280       \n",
      "_________________________________________________________________\n",
      "batch_normalization_7 (Batch (None, 201, 201, 10)      804       \n",
      "_________________________________________________________________\n",
      "activation_7 (Activation)    (None, 201, 201, 10)      0         \n",
      "_________________________________________________________________\n",
      "max_pooling2d_7 (MaxPooling2 (None, 101, 101, 10)      0         \n",
      "_________________________________________________________________\n",
      "conv2d_8 (Conv2D)            (None, 101, 101, 20)      1820      \n",
      "_________________________________________________________________\n",
      "batch_normalization_8 (Batch (None, 101, 101, 20)      404       \n",
      "_________________________________________________________________\n",
      "activation_8 (Activation)    (None, 101, 101, 20)      0         \n",
      "_________________________________________________________________\n",
      "max_pooling2d_8 (MaxPooling2 (None, 51, 51, 20)        0         \n",
      "_________________________________________________________________\n",
      "conv2d_9 (Conv2D)            (None, 51, 51, 40)        7240      \n",
      "_________________________________________________________________\n",
      "batch_normalization_9 (Batch (None, 51, 51, 40)        204       \n",
      "_________________________________________________________________\n",
      "activation_9 (Activation)    (None, 51, 51, 40)        0         \n",
      "_________________________________________________________________\n",
      "max_pooling2d_9 (MaxPooling2 (None, 25, 25, 40)        0         \n",
      "_________________________________________________________________\n",
      "flatten_3 (Flatten)          (None, 25000)             0         \n",
      "_________________________________________________________________\n",
      "dense_7 (Dense)              (None, 50)                1250050   \n",
      "_________________________________________________________________\n",
      "dense_8 (Dense)              (None, 50)                2550      \n",
      "_________________________________________________________________\n",
      "dense_9 (Dense)              (None, 17)                867       \n",
      "=================================================================\n",
      "Total params: 1,264,219\n",
      "Trainable params: 1,263,513\n",
      "Non-trainable params: 706\n",
      "_________________________________________________________________\n"
     ]
    }
   ],
   "source": [
    "model.summary()"
   ]
  },
  {
   "cell_type": "code",
   "execution_count": null,
   "metadata": {},
   "outputs": [],
   "source": []
  },
  {
   "cell_type": "code",
   "execution_count": null,
   "metadata": {},
   "outputs": [],
   "source": []
  },
  {
   "cell_type": "code",
   "execution_count": 8,
   "metadata": {},
   "outputs": [],
   "source": [
    "# Split training and test sets\n",
    "test_samples_df = pd.read_csv('test_samples.csv')\n",
    "metadata_df = pd.read_csv('train_metadata_codes.csv')\n",
    "training_df = metadata_df[~metadata_df.cell_code.isin(test_samples_df.cell_code.values)].reset_index()\n",
    "training_df = training_df.sample(frac=1).reset_index(drop=True)\n",
    "test_df = metadata_df[metadata_df.cell_code.isin(test_samples_df.cell_code.values)].reset_index()\n",
    "test_df = test_df.sample(frac=1).reset_index(drop=True)"
   ]
  },
  {
   "cell_type": "code",
   "execution_count": 9,
   "metadata": {},
   "outputs": [],
   "source": [
    "def get_X_y(df):\n",
    "    X = np.array([imread('training/%s' % path) for path in df.rel_path.values])\n",
    "    f = pd.factorize(df.moa, sort=True)\n",
    "    y = np.zeros((f[0].shape[0], len(set(f[0]))))\n",
    "    y[np.arange(f[0].shape[0]), f[0].T] = 1\n",
    "    targets = f[1]\n",
    "    \n",
    "    return X, y, targets"
   ]
  },
  {
   "cell_type": "code",
   "execution_count": 11,
   "metadata": {},
   "outputs": [],
   "source": [
    "X_train, y_train, targets_train = get_X_y(training_df)"
   ]
  },
  {
   "cell_type": "code",
   "execution_count": 12,
   "metadata": {},
   "outputs": [
    {
     "data": {
      "text/plain": [
       "(49567, 201, 201, 3)"
      ]
     },
     "execution_count": 12,
     "metadata": {},
     "output_type": "execute_result"
    }
   ],
   "source": [
    "X_train.shape"
   ]
  },
  {
   "cell_type": "code",
   "execution_count": 13,
   "metadata": {},
   "outputs": [
    {
     "data": {
      "text/plain": [
       "(49567, 17)"
      ]
     },
     "execution_count": 13,
     "metadata": {},
     "output_type": "execute_result"
    }
   ],
   "source": [
    "y_train.shape"
   ]
  },
  {
   "cell_type": "code",
   "execution_count": 14,
   "metadata": {},
   "outputs": [
    {
     "data": {
      "text/plain": [
       "Index(['AMPA', 'CDK', 'Ca2', 'Cdc25', 'DNAMetabolism', 'DNA_intercalation',\n",
       "       'EGFR', 'MEK', 'ROCK', 'TopoII', 'Tubulin', 'adrenoceptor', 'cMyc',\n",
       "       'cellcycle', 'dopaminereceptor', 'eNOS', 'rac1'],\n",
       "      dtype='object')"
      ]
     },
     "execution_count": 14,
     "metadata": {},
     "output_type": "execute_result"
    }
   ],
   "source": [
    "targets_train"
   ]
  },
  {
   "cell_type": "code",
   "execution_count": 15,
   "metadata": {},
   "outputs": [],
   "source": [
    "X_test, y_test, targets_test = get_X_y(test_df)"
   ]
  },
  {
   "cell_type": "code",
   "execution_count": 16,
   "metadata": {},
   "outputs": [
    {
     "data": {
      "text/plain": [
       "(1700, 201, 201, 3)"
      ]
     },
     "execution_count": 16,
     "metadata": {},
     "output_type": "execute_result"
    }
   ],
   "source": [
    "X_test.shape"
   ]
  },
  {
   "cell_type": "code",
   "execution_count": 17,
   "metadata": {},
   "outputs": [
    {
     "data": {
      "text/plain": [
       "(1700, 17)"
      ]
     },
     "execution_count": 17,
     "metadata": {},
     "output_type": "execute_result"
    }
   ],
   "source": [
    "y_test.shape"
   ]
  },
  {
   "cell_type": "code",
   "execution_count": 18,
   "metadata": {},
   "outputs": [
    {
     "data": {
      "text/plain": [
       "Index(['AMPA', 'CDK', 'Ca2', 'Cdc25', 'DNAMetabolism', 'DNA_intercalation',\n",
       "       'EGFR', 'MEK', 'ROCK', 'TopoII', 'Tubulin', 'adrenoceptor', 'cMyc',\n",
       "       'cellcycle', 'dopaminereceptor', 'eNOS', 'rac1'],\n",
       "      dtype='object')"
      ]
     },
     "execution_count": 18,
     "metadata": {},
     "output_type": "execute_result"
    }
   ],
   "source": [
    "targets_test"
   ]
  },
  {
   "cell_type": "code",
   "execution_count": 19,
   "metadata": {},
   "outputs": [],
   "source": [
    "# Hyper-parameters\n",
    "params = {'percent_to_valid': 0.2,\n",
    "          'num_epochs': 200,\n",
    "          'batch_size': 256}"
   ]
  },
  {
   "cell_type": "code",
   "execution_count": 20,
   "metadata": {},
   "outputs": [
    {
     "name": "stdout",
     "output_type": "stream",
     "text": [
      "Train on 39653 samples, validate on 9914 samples\n",
      "Epoch 1/200\n",
      "39653/39653 [==============================] - 174s - loss: 2.7707 - acc: 0.1052 - val_loss: 2.6689 - val_acc: 0.1202\n",
      "Epoch 2/200\n",
      "39653/39653 [==============================] - 170s - loss: 2.6374 - acc: 0.1199 - val_loss: 2.5850 - val_acc: 0.1396\n",
      "Epoch 3/200\n",
      "39653/39653 [==============================] - 170s - loss: 2.5650 - acc: 0.1398 - val_loss: 2.5253 - val_acc: 0.1539\n",
      "Epoch 4/200\n",
      "39653/39653 [==============================] - 171s - loss: 2.5154 - acc: 0.1501 - val_loss: 2.4985 - val_acc: 0.1582\n",
      "Epoch 5/200\n",
      "39653/39653 [==============================] - 171s - loss: 2.4851 - acc: 0.1591 - val_loss: 2.5222 - val_acc: 0.1514\n",
      "Epoch 6/200\n",
      "39653/39653 [==============================] - 171s - loss: 2.4632 - acc: 0.1655 - val_loss: 2.4753 - val_acc: 0.1625\n",
      "Epoch 7/200\n",
      "39653/39653 [==============================] - 171s - loss: 2.4465 - acc: 0.1710 - val_loss: 2.4692 - val_acc: 0.1670\n",
      "Epoch 8/200\n",
      "39653/39653 [==============================] - 171s - loss: 2.4318 - acc: 0.1740 - val_loss: 2.4526 - val_acc: 0.1729\n",
      "Epoch 9/200\n",
      "39653/39653 [==============================] - 171s - loss: 2.4163 - acc: 0.1823 - val_loss: 2.4390 - val_acc: 0.1733\n",
      "Epoch 10/200\n",
      "39653/39653 [==============================] - 170s - loss: 2.4060 - acc: 0.1877 - val_loss: 2.4401 - val_acc: 0.1770\n",
      "Epoch 11/200\n",
      "39653/39653 [==============================] - 171s - loss: 2.3901 - acc: 0.1922 - val_loss: 2.4354 - val_acc: 0.1810\n",
      "Epoch 12/200\n",
      "39653/39653 [==============================] - 171s - loss: 2.3769 - acc: 0.1977 - val_loss: 2.4369 - val_acc: 0.1847\n",
      "Epoch 13/200\n",
      "39653/39653 [==============================] - 170s - loss: 2.3649 - acc: 0.2018 - val_loss: 2.4365 - val_acc: 0.1818\n",
      "Epoch 14/200\n",
      "39653/39653 [==============================] - 171s - loss: 2.3528 - acc: 0.2067 - val_loss: 2.4273 - val_acc: 0.1858\n",
      "Epoch 15/200\n",
      "39653/39653 [==============================] - 170s - loss: 2.3413 - acc: 0.2130 - val_loss: 2.4256 - val_acc: 0.1882\n",
      "Epoch 16/200\n",
      "39653/39653 [==============================] - 171s - loss: 2.3283 - acc: 0.2182 - val_loss: 2.4489 - val_acc: 0.1821\n",
      "Epoch 17/200\n",
      "39653/39653 [==============================] - 171s - loss: 2.3149 - acc: 0.2217 - val_loss: 2.4287 - val_acc: 0.1857\n",
      "Epoch 18/200\n",
      "39653/39653 [==============================] - 171s - loss: 2.3019 - acc: 0.2255 - val_loss: 2.4234 - val_acc: 0.1906\n",
      "Epoch 19/200\n",
      "39653/39653 [==============================] - 171s - loss: 2.2829 - acc: 0.2324 - val_loss: 2.4567 - val_acc: 0.1915\n",
      "Epoch 20/200\n",
      "39653/39653 [==============================] - 171s - loss: 2.2761 - acc: 0.2369 - val_loss: 2.4249 - val_acc: 0.1894\n",
      "Epoch 21/200\n",
      "39653/39653 [==============================] - 171s - loss: 2.2601 - acc: 0.2416 - val_loss: 2.4326 - val_acc: 0.1935\n",
      "Epoch 22/200\n",
      "39653/39653 [==============================] - 171s - loss: 2.2495 - acc: 0.2462 - val_loss: 2.4503 - val_acc: 0.1927\n",
      "Epoch 23/200\n",
      "39653/39653 [==============================] - 171s - loss: 2.2297 - acc: 0.2523 - val_loss: 2.5253 - val_acc: 0.1776\n",
      "Epoch 24/200\n",
      "39653/39653 [==============================] - 171s - loss: 2.2201 - acc: 0.2560 - val_loss: 2.4466 - val_acc: 0.1925\n",
      "Epoch 00023: early stopping\n"
     ]
    }
   ],
   "source": [
    "model_weights = 'cnn2_weights.hdf5'\n",
    "\n",
    "# Optimization method\n",
    "model.compile(loss=losses.categorical_crossentropy, optimizer=optimizers.Adadelta(), metrics=['accuracy'])\n",
    "\n",
    "# Fit training data\n",
    "earlyStopping = EarlyStopping(patience=5, verbose=True, monitor='val_loss')\n",
    "mcp_save = ModelCheckpoint(filepath=model_weights, save_best_only=True, monitor='val_loss', mode='min')\n",
    "hist = model.fit(X_train, y_train, epochs=params['num_epochs'], batch_size=params['batch_size'], \n",
    "                 validation_split=params['percent_to_valid'], callbacks=[earlyStopping, mcp_save])"
   ]
  },
  {
   "cell_type": "code",
   "execution_count": 21,
   "metadata": {},
   "outputs": [],
   "source": [
    "#model.load_weights(model_weights)\n",
    "model.save('cnn2_model.h5')"
   ]
  },
  {
   "cell_type": "code",
   "execution_count": null,
   "metadata": {},
   "outputs": [],
   "source": []
  },
  {
   "cell_type": "code",
   "execution_count": 38,
   "metadata": {},
   "outputs": [
    {
     "name": "stdout",
     "output_type": "stream",
     "text": [
      "1700/1700 [==============================] - 3s     \n",
      "\n",
      "Test loss: 2.41\n",
      "Test acc: 24.06%\n",
      "F1-Score: 0.24\n"
     ]
    },
    {
     "data": {
      "image/png": "[encoded data removed]",
      "text/plain": [
       "<matplotlib.figure.Figure at 0x7f4482b07438>"
      ]
     },
     "metadata": {
      "needs_background": "light"
     },
     "output_type": "display_data"
    }
   ],
   "source": [
    "# Evaluate model\n",
    "#model = load_model('cnn2_model.h5')\n",
    "score = model.evaluate(X_test, y_test, batch_size=params['batch_size'])\n",
    "print('\\nTest %s: %.2f' % (model.metrics_names[0], score[0]))\n",
    "print('Test %s: %.2f%%' % (model.metrics_names[1], score[1]*100))\n",
    "\n",
    "# Make predictions\n",
    "targets = targets_test\n",
    "y_pred = model.predict(X_test, batch_size=params['batch_size'])\n",
    "y_pred = [targets[i] for i in np.argmax(y_pred, axis=1)]\n",
    "y_true = [targets[i] for i in np.argmax(y_test, axis=1)]\n",
    "\n",
    "# Print prediction performance on F1-score\n",
    "f1 = f1_score(y_true, y_pred, average='macro')  \n",
    "print('F1-Score: %.2f' % f1)\n",
    "\n",
    "unpredicted_classes = list(set(y_true) - set(y_pred))\n",
    "if len(unpredicted_classes):\n",
    "    print('THESE CLASSES ARE NOT PREDICTED - SCORING WILL FAIL!')\n",
    "    print(unpredicted_classes)\n",
    "\n",
    "# Plot confusion matrix\n",
    "cm = confusion_matrix(y_true, y_pred, targets)\n",
    "plt.figure(figsize=(10, 10))\n",
    "plt.imshow(cm, interpolation='nearest', cmap=plt.cm.viridis)\n",
    "tick_marks = np.arange(len(targets))\n",
    "plt.xticks(tick_marks, targets, rotation=45, ha='right')\n",
    "plt.yticks(tick_marks, targets)\n",
    "for i, j in itertools.product(range(cm.shape[0]), range(cm.shape[1])):\n",
    "    plt.text(j, i, cm[i, j], horizontalalignment='center', color='black')\n",
    "\n",
    "plt.ylabel('True label')\n",
    "plt.xlabel('Predicted label')\n",
    "plt.savefig('cnn_cm.png', bbox_inches='tight')"
   ]
  },
  {
   "cell_type": "code",
   "execution_count": null,
   "metadata": {},
   "outputs": [],
   "source": []
  },
  {
   "cell_type": "code",
   "execution_count": null,
   "metadata": {},
   "outputs": [],
   "source": []
  },
  {
   "cell_type": "code",
   "execution_count": null,
   "metadata": {},
   "outputs": [],
   "source": []
  },
  {
   "cell_type": "code",
   "execution_count": 30,
   "metadata": {},
   "outputs": [
    {
     "data": {
      "text/html": [
       "<div>\n",
       "<style>\n",
       "    .dataframe thead tr:only-child th {\n",
       "        text-align: right;\n",
       "    }\n",
       "\n",
       "    .dataframe thead th {\n",
       "        text-align: left;\n",
       "    }\n",
       "\n",
       "    .dataframe tbody tr th {\n",
       "        vertical-align: top;\n",
       "    }\n",
       "</style>\n",
       "<table border=\"1\" class=\"dataframe\">\n",
       "  <thead>\n",
       "    <tr style=\"text-align: right;\">\n",
       "      <th></th>\n",
       "      <th>rel_path</th>\n",
       "      <th>cell_code</th>\n",
       "    </tr>\n",
       "  </thead>\n",
       "  <tbody>\n",
       "    <tr>\n",
       "      <th>0</th>\n",
       "      <td>single_cell_KuQJTlfiFW.tiff</td>\n",
       "      <td>KuQJTlfiFW</td>\n",
       "    </tr>\n",
       "    <tr>\n",
       "      <th>1</th>\n",
       "      <td>single_cell_OHLCBK5YUr.tiff</td>\n",
       "      <td>OHLCBK5YUr</td>\n",
       "    </tr>\n",
       "    <tr>\n",
       "      <th>2</th>\n",
       "      <td>single_cell_hdDTiJ9PFF.tiff</td>\n",
       "      <td>hdDTiJ9PFF</td>\n",
       "    </tr>\n",
       "    <tr>\n",
       "      <th>3</th>\n",
       "      <td>single_cell_UZtW0gA3q5.tiff</td>\n",
       "      <td>UZtW0gA3q5</td>\n",
       "    </tr>\n",
       "    <tr>\n",
       "      <th>4</th>\n",
       "      <td>single_cell_IAKfYa4KWb.tiff</td>\n",
       "      <td>IAKfYa4KWb</td>\n",
       "    </tr>\n",
       "  </tbody>\n",
       "</table>\n",
       "</div>"
      ],
      "text/plain": [
       "                      rel_path   cell_code\n",
       "0  single_cell_KuQJTlfiFW.tiff  KuQJTlfiFW\n",
       "1  single_cell_OHLCBK5YUr.tiff  OHLCBK5YUr\n",
       "2  single_cell_hdDTiJ9PFF.tiff  hdDTiJ9PFF\n",
       "3  single_cell_UZtW0gA3q5.tiff  UZtW0gA3q5\n",
       "4  single_cell_IAKfYa4KWb.tiff  IAKfYa4KWb"
      ]
     },
     "execution_count": 30,
     "metadata": {},
     "output_type": "execute_result"
    }
   ],
   "source": [
    "df = pd.read_csv('validation_metadata.csv')\n",
    "df.head()"
   ]
  },
  {
   "cell_type": "code",
   "execution_count": 31,
   "metadata": {},
   "outputs": [],
   "source": [
    "X_validation = np.array([imread('validation/%s' % path) for path in df.rel_path.values])\n",
    "validation_cells = df.cell_code.values"
   ]
  },
  {
   "cell_type": "code",
   "execution_count": 32,
   "metadata": {},
   "outputs": [],
   "source": [
    "metadata_df = pd.read_csv('train_metadata_codes.csv')\n",
    "metadata_df.head()\n",
    "f = pd.factorize(metadata_df.moa, sort=True)\n",
    "targets = f[1]"
   ]
  },
  {
   "cell_type": "code",
   "execution_count": 33,
   "metadata": {},
   "outputs": [],
   "source": [
    "# Predict target probabilities\n",
    "y_pred = model.predict(X_validation, batch_size=params['batch_size'])\n",
    "df_valid_prob = pd.DataFrame(columns=targets, data=y_pred)\n",
    "df_valid_prob.insert(0, 'cell_code', validation_cells)\n",
    "# Save predictions\n",
    "df_valid_prob.to_csv('cnn2_probabilities.csv', index=False)"
   ]
  },
  {
   "cell_type": "code",
   "execution_count": 35,
   "metadata": {},
   "outputs": [],
   "source": [
    "# Predictions on maximum probabilities\n",
    "df_valid_pred = pd.DataFrame(columns = ['cell_code', 'prediction'])\n",
    "df_valid_pred['cell_code'] = df_valid_prob['cell_code']\n",
    "df_valid_pred['prediction'] = [targets[i] for i in np.argmax(y_pred, axis=1)]\n",
    "df_valid_pred.to_csv('cnn2_predictions.csv', index=False)"
   ]
  },
  {
   "cell_type": "code",
   "execution_count": null,
   "metadata": {},
   "outputs": [],
   "source": []
  }
 ],
 "metadata": {
  "kernelspec": {
   "display_name": "Python 3",
   "language": "python",
   "name": "python3"
  },
  "language_info": {
   "codemirror_mode": {
    "name": "ipython",
    "version": 3
   },
   "file_extension": ".py",
   "mimetype": "text/x-python",
   "name": "python",
   "nbconvert_exporter": "python",
   "pygments_lexer": "ipython3",
   "version": "3.5.4"
  }
 },
 "nbformat": 4,
 "nbformat_minor": 2
}
